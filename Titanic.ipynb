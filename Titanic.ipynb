{
 "cells": [
  {
   "cell_type": "code",
   "execution_count": 3,
   "metadata": {
    "collapsed": false,
    "scrolled": true
   },
   "outputs": [],
   "source": [
    "# Imports\n",
    "# pandas\n",
    "import pandas as pd\n",
    "from pandas import Series,DataFrame\n",
    "\n",
    "# numpy, matplotlib, seaborn\n",
    "import numpy as np\n",
    "import matplotlib.pyplot as plt\n",
    "\n",
    "# import seaborn by \"pip install seaborn\" \n",
    "import seaborn as sns\n",
    "sns.set_style('whitegrid')\n",
    "%matplotlib inline\n",
    "\n",
    "# import machine learning libraries\n",
    "from sklearn import cross_validation\n",
    "from sklearn import metrics\n",
    "from sklearn.linear_model import LogisticRegression\n",
    "from sklearn.svm import SVC, LinearSVC\n",
    "from sklearn.ensemble import RandomForestClassifier\n",
    "from sklearn.neighbors import KNeighborsClassifier\n",
    "from sklearn.naive_bayes import GaussianNB\n",
    "\n",
    "# Get titanic & test csv files as a DataFrame\n",
    "titanic_df = pd.read_csv(\"train.csv\", dtype={\"Age\": np.float64}, )\n",
    "test_df    = pd.read_csv(\"test.csv\", dtype={\"Age\": np.float64}, )"
   ]
  },
  {
   "cell_type": "code",
   "execution_count": 4,
   "metadata": {
    "collapsed": false
   },
   "outputs": [
    {
     "name": "stdout",
     "output_type": "stream",
     "text": [
      "   PassengerId  Survived  Pclass  \\\n",
      "0            1         0       3   \n",
      "1            2         1       1   \n",
      "2            3         1       3   \n",
      "3            4         1       1   \n",
      "4            5         0       3   \n",
      "\n",
      "                                                Name     Sex   Age  SibSp  \\\n",
      "0                            Braund, Mr. Owen Harris    male  22.0      1   \n",
      "1  Cumings, Mrs. John Bradley (Florence Briggs Th...  female  38.0      1   \n",
      "2                             Heikkinen, Miss. Laina  female  26.0      0   \n",
      "3       Futrelle, Mrs. Jacques Heath (Lily May Peel)  female  35.0      1   \n",
      "4                           Allen, Mr. William Henry    male  35.0      0   \n",
      "\n",
      "   Parch            Ticket     Fare Cabin Embarked  \n",
      "0      0         A/5 21171   7.2500   NaN        S  \n",
      "1      0          PC 17599  71.2833   C85        C  \n",
      "2      0  STON/O2. 3101282   7.9250   NaN        S  \n",
      "3      0            113803  53.1000  C123        S  \n",
      "4      0            373450   8.0500   NaN        S  \n"
     ]
    }
   ],
   "source": [
    "# preview the data\n",
    "print titanic_df.head()"
   ]
  },
  {
   "cell_type": "code",
   "execution_count": 5,
   "metadata": {
    "collapsed": false
   },
   "outputs": [
    {
     "name": "stdout",
     "output_type": "stream",
     "text": [
      "<class 'pandas.core.frame.DataFrame'>\n",
      "RangeIndex: 891 entries, 0 to 890\n",
      "Data columns (total 12 columns):\n",
      "PassengerId    891 non-null int64\n",
      "Survived       891 non-null int64\n",
      "Pclass         891 non-null int64\n",
      "Name           891 non-null object\n",
      "Sex            891 non-null object\n",
      "Age            714 non-null float64\n",
      "SibSp          891 non-null int64\n",
      "Parch          891 non-null int64\n",
      "Ticket         891 non-null object\n",
      "Fare           891 non-null float64\n",
      "Cabin          204 non-null object\n",
      "Embarked       889 non-null object\n",
      "dtypes: float64(2), int64(5), object(5)\n",
      "memory usage: 83.6+ KB\n",
      "----------------------------\n",
      "<class 'pandas.core.frame.DataFrame'>\n",
      "RangeIndex: 418 entries, 0 to 417\n",
      "Data columns (total 11 columns):\n",
      "PassengerId    418 non-null int64\n",
      "Pclass         418 non-null int64\n",
      "Name           418 non-null object\n",
      "Sex            418 non-null object\n",
      "Age            332 non-null float64\n",
      "SibSp          418 non-null int64\n",
      "Parch          418 non-null int64\n",
      "Ticket         418 non-null object\n",
      "Fare           417 non-null float64\n",
      "Cabin          91 non-null object\n",
      "Embarked       418 non-null object\n",
      "dtypes: float64(2), int64(4), object(5)\n",
      "memory usage: 36.0+ KB\n"
     ]
    }
   ],
   "source": [
    "# print details\n",
    "titanic_df.info()\n",
    "print(\"----------------------------\")\n",
    "test_df.info()"
   ]
  },
  {
   "cell_type": "code",
   "execution_count": 6,
   "metadata": {
    "collapsed": true
   },
   "outputs": [],
   "source": [
    "# drop the ticket columns in each, it is just a ticket number so is unlikely to be useful in analysis and prediction\n",
    "titanic_df = titanic_df.drop(['PassengerId','Ticket'], axis=1)\n",
    "test_df = test_df.drop(['Ticket'], axis=1)"
   ]
  },
  {
   "cell_type": "code",
   "execution_count": 7,
   "metadata": {
    "collapsed": true
   },
   "outputs": [],
   "source": [
    "# TITLE\n",
    "# Create new title column and get title by splitting the passenger name column\n",
    "titanic_df['Title'] = titanic_df['Name'].apply(lambda x: x.split(',')[1].strip().split('.')[0])\n",
    "test_df['Title'] = test_df['Name'].apply(lambda x: x.split(',')[1].strip().split('.')[0])"
   ]
  },
  {
   "cell_type": "code",
   "execution_count": 8,
   "metadata": {
    "collapsed": false
   },
   "outputs": [
    {
     "data": {
      "text/plain": [
       "<matplotlib.axes._subplots.AxesSubplot at 0xbe81320>"
      ]
     },
     "execution_count": 8,
     "metadata": {},
     "output_type": "execute_result"
    },
    {
     "data": {
      "image/png": "[encoded data removed]",
      "text/plain": [
       "<matplotlib.figure.Figure at 0x3c8eb38>"
      ]
     },
     "metadata": {},
     "output_type": "display_data"
    }
   ],
   "source": [
    "# In titanic_df change Mlle and Ms to Miss, Mme to Mrs. Changed Col, Major and Capt to Military Title and all others to Rare Title\n",
    "titanic_df['Title'] = np.where(titanic_df['Title'].isin(['Mlle', 'Ms']), 'Miss', titanic_df['Title'])\n",
    "titanic_df['Title'] = np.where(titanic_df['Title'].isin(['Mme']), 'Mrs', titanic_df['Title'])\n",
    "titanic_df['Title'] = np.where(titanic_df['Title'].isin(['Major', 'Col', 'Capt']), 'Military Title', titanic_df['Title'])\n",
    "titanic_df['Title'] = np.where(titanic_df['Title'].isin(['Jonkheer', 'Lady', 'Don', 'Dona', 'the Countess', 'Sir']), 'Rare Title', titanic_df['Title'])\n",
    "\n",
    "# Plot Title vs Survived\n",
    "title_perc = titanic_df[['Title', 'Survived']].groupby(['Title'], as_index = False).mean()\n",
    "sns.barplot(x = 'Title', y = 'Survived', data = title_perc)\n"
   ]
  },
  {
   "cell_type": "code",
   "execution_count": 9,
   "metadata": {
    "collapsed": true
   },
   "outputs": [],
   "source": [
    "# Make the same changes in test_df\n",
    "test_df['Title'] = np.where(test_df['Title'].isin(['Mlle', 'Ms']), 'Miss', test_df['Title'])\n",
    "test_df['Title'] = np.where(test_df['Title'].isin(['Mme']), 'Mrs', test_df['Title'])\n",
    "test_df['Title'] = np.where(test_df['Title'].isin(['Major', 'Col', 'Capt']), 'Military Title', test_df['Title'])\n",
    "test_df['Title'] = np.where(test_df['Title'].isin(['Jonkheer', 'Lady', 'Don', 'Dona', 'the Countess', 'Sir']), 'Rare Title', test_df['Title'])\n",
    "\n",
    "# Need to create dummy variables to handle categorical data for sklearn\n",
    "title_dummies_titanic = pd.get_dummies(titanic_df['Title'])\n",
    "title_dummies_test = pd.get_dummies(test_df['Title'])\n",
    "\n",
    "titanic_df = titanic_df.join(title_dummies_titanic)\n",
    "test_df = test_df.join(title_dummies_test)\n",
    "\n",
    "# Drop Name variable and drop Title as the data is contained in new dummy variables\n",
    "titanic_df = titanic_df.drop(['Name', 'Title'], axis=1)\n",
    "test_df    = test_df.drop(['Name', 'Title'], axis=1)"
   ]
  },
  {
   "cell_type": "code",
   "execution_count": 10,
   "metadata": {
    "collapsed": false
   },
   "outputs": [
    {
     "data": {
      "text/plain": [
       "<matplotlib.axes._subplots.AxesSubplot at 0xc27fb00>"
      ]
     },
     "execution_count": 10,
     "metadata": {},
     "output_type": "execute_result"
    },
    {
     "data": {
      "image/png": "[encoded data removed]",
      "text/plain": [
       "<matplotlib.figure.Figure at 0xbd39128>"
      ]
     },
     "metadata": {},
     "output_type": "display_data"
    }
   ],
   "source": [
    "# FAMILY\n",
    "# Create a family size variable = number parents/children + number siblings/spouses + 1 for the passenger themselves\n",
    "titanic_df['FamilySize'] =  titanic_df[\"Parch\"] + titanic_df[\"SibSp\"] + 1\n",
    "test_df['FamilySize'] =  test_df[\"Parch\"] + test_df[\"SibSp\"] + 1\n",
    "\n",
    "fig, (axis1, axis2) = plt.subplots(1,2,figsize=(15,4))\n",
    "\n",
    "# Plot the Family size showing number who survived and died\n",
    "sns.countplot(x = 'FamilySize', hue= 'Survived', data = titanic_df, ax = axis1)\n",
    "\n",
    "# Create function to be called on the FamilySize column that returns 'singleton', 'small' or 'large' depending on the size of the family\n",
    "def discrete_family_size(x):\n",
    "    if x == 1:\n",
    "        return 'Singleton'\n",
    "    elif x > 4:\n",
    "        return 'Large Family'\n",
    "    else:\n",
    "        return 'Small Family'\n",
    "\n",
    "# Apply the function to replace the values of FamilySize with the discretized values \n",
    "titanic_df['FamilySizeD'] = titanic_df['FamilySize'].apply(discrete_family_size)        \n",
    "test_df['FamilySizeD'] = test_df['FamilySize'].apply(discrete_family_size) \n",
    "sns.countplot(x = 'FamilySizeD', hue= 'Survived', data = titanic_df, ax = axis2)    "
   ]
  },
  {
   "cell_type": "code",
   "execution_count": 11,
   "metadata": {
    "collapsed": true
   },
   "outputs": [],
   "source": [
    "# Create dummy variables for FamilySize\n",
    "fsized_dummies_titanic = pd.get_dummies(titanic_df['FamilySizeD'])\n",
    "fsized_dummies_test = pd.get_dummies(test_df['FamilySizeD'])\n",
    "\n",
    "titanic_df = titanic_df.join(fsized_dummies_titanic)\n",
    "test_df = test_df.join(fsized_dummies_test)\n",
    "\n",
    "# Drop SibSp, ParCh, FamilySize as the information is contained in new dummy variables Singleton, Small and Large\n",
    "titanic_df = titanic_df.drop(['SibSp','Parch', 'FamilySize', 'FamilySizeD'], axis=1)\n",
    "test_df    = test_df.drop(['SibSp','Parch', 'FamilySize', 'FamilySizeD'], axis=1)"
   ]
  },
  {
   "cell_type": "code",
   "execution_count": 12,
   "metadata": {
    "collapsed": false
   },
   "outputs": [
    {
     "data": {
      "text/plain": [
       "<matplotlib.axes._subplots.AxesSubplot at 0xc8be588>"
      ]
     },
     "execution_count": 12,
     "metadata": {},
     "output_type": "execute_result"
    },
    {
     "data": {
      "image/png": "[encoded data removed]",
      "text/plain": [
       "<matplotlib.figure.Figure at 0xbd8ff98>"
      ]
     },
     "metadata": {},
     "output_type": "display_data"
    }
   ],
   "source": [
    "# MISSING VALUES\n",
    "\n",
    "# EMBARKED\n",
    "# Fill in the missing values for embarked using the value found as most likely by Megan Risdal's R script \n",
    "# where she looked at the fare paid by the people whose Embarked value is missing and looked at the others who paid this\n",
    "# fare and found that Embarked for the group of people who paid this fare was Cherbourg\n",
    "titanic_df[\"Embarked\"] = titanic_df[\"Embarked\"].fillna(\"C\")\n",
    "\n",
    "fig, (axis1,axis2,axis3) = plt.subplots(1,3,figsize=(15,5))\n",
    "# create countplot showing embarked and another showing survived with different bars for where they embarked\n",
    "sns.countplot(x='Embarked', data=titanic_df, ax=axis1)\n",
    "sns.countplot(x='Survived', hue=\"Embarked\", data=titanic_df, order=[1,0], ax=axis2)\n",
    "\n",
    "# group by embarked, and get the mean for survived passengers for each value in Embarked\n",
    "embark_perc = titanic_df[[\"Embarked\", \"Survived\"]].groupby(['Embarked'],as_index=False).mean()\n",
    "sns.barplot(x='Embarked', y='Survived', data=embark_perc,order=['S','C','Q'],ax=axis3)"
   ]
  },
  {
   "cell_type": "code",
   "execution_count": 13,
   "metadata": {
    "collapsed": true
   },
   "outputs": [],
   "source": [
    "# Create dummy variables for C, Q and S\n",
    "embark_dummies_titanic = pd.get_dummies(titanic_df['Embarked'])\n",
    "embark_dummies_test = pd.get_dummies(test_df['Embarked'])\n",
    "\n",
    "titanic_df = titanic_df.join(embark_dummies_titanic)\n",
    "test_df = test_df.join(embark_dummies_test)\n",
    "\n",
    "# Dropped Embarked as C, Q and S have been added as dummy variables\n",
    "titanic_df.drop(['Embarked'], axis=1,inplace=True)\n",
    "test_df.drop(['Embarked'], axis=1,inplace=True)"
   ]
  },
  {
   "cell_type": "code",
   "execution_count": 14,
   "metadata": {
    "collapsed": true
   },
   "outputs": [],
   "source": [
    "# CABIN\n",
    "# There are a huge amount of missing values. It wouldn't make sense to try to fill them in so I am dropping Cabin\n",
    "titanic_df = titanic_df.drop(['Cabin'], axis=1)\n",
    "test_df = test_df.drop(['Cabin'], axis=1)"
   ]
  },
  {
   "cell_type": "code",
   "execution_count": 15,
   "metadata": {
    "collapsed": false
   },
   "outputs": [
    {
     "data": {
      "image/png": "[encoded data removed]",
      "text/plain": [
       "<matplotlib.figure.Figure at 0xcb7f438>"
      ]
     },
     "metadata": {},
     "output_type": "display_data"
    }
   ],
   "source": [
    "# FARE\n",
    "# only for test_df, since there is a missing \"Fare\" values\n",
    "# Filling in the missing value with the median Fare value\n",
    "test_df[\"Fare\"].fillna(test_df[\"Fare\"].median(), inplace=True)\n",
    "\n",
    "# convert from float to int \n",
    "titanic_df['Fare'] = titanic_df['Fare'].astype(int)\n",
    "test_df['Fare']    = test_df['Fare'].astype(int)\n",
    "\n",
    "# get fare for survived & didn't survive passengers \n",
    "fare_not_survived = titanic_df[\"Fare\"][titanic_df[\"Survived\"] == 0]\n",
    "fare_survived     = titanic_df[\"Fare\"][titanic_df[\"Survived\"] == 1]\n",
    "\n",
    "# get average and std for fare of survived/not survived passengers\n",
    "avgerage_fare = DataFrame([fare_not_survived.mean(), fare_survived.mean()])\n",
    "std_fare      = DataFrame([fare_not_survived.std(), fare_survived.std()])\n",
    "\n",
    "# plot fare as a histogram\n",
    "fig, axis1 = plt.subplots(1,1,figsize=(10,3))\n",
    "fig = titanic_df['Fare'].plot(kind = 'hist', figsize=(10,3),bins=100, xlim=(0,50))"
   ]
  },
  {
   "cell_type": "code",
   "execution_count": 16,
   "metadata": {
    "collapsed": false
   },
   "outputs": [
    {
     "data": {
      "text/plain": [
       "<matplotlib.axes._subplots.AxesSubplot at 0xc517550>"
      ]
     },
     "execution_count": 16,
     "metadata": {},
     "output_type": "execute_result"
    },
    {
     "data": {
      "image/png": "[encoded data removed]",
      "text/plain": [
       "<matplotlib.figure.Figure at 0x3c8ec18>"
      ]
     },
     "metadata": {},
     "output_type": "display_data"
    }
   ],
   "source": [
    "avgerage_fare.index.names = std_fare.index.names = [\"Survived\"]\n",
    "avgerage_fare.plot(yerr=std_fare, kind = 'bar', legend = False)"
   ]
  },
  {
   "cell_type": "code",
   "execution_count": 17,
   "metadata": {
    "collapsed": false
   },
   "outputs": [
    {
     "name": "stderr",
     "output_type": "stream",
     "text": [
      "C:\\Users\\barre\\Miniconda2\\envs\\Siobhan\\lib\\site-packages\\ipykernel\\__main__.py:21: SettingWithCopyWarning: \n",
      "A value is trying to be set on a copy of a slice from a DataFrame\n",
      "\n",
      "See the caveats in the documentation: http://pandas.pydata.org/pandas-docs/stable/indexing.html#indexing-view-versus-copy\n",
      "C:\\Users\\barre\\Miniconda2\\envs\\Siobhan\\lib\\site-packages\\ipykernel\\__main__.py:22: SettingWithCopyWarning: \n",
      "A value is trying to be set on a copy of a slice from a DataFrame\n",
      "\n",
      "See the caveats in the documentation: http://pandas.pydata.org/pandas-docs/stable/indexing.html#indexing-view-versus-copy\n"
     ]
    },
    {
     "data": {
      "text/plain": [
       "<matplotlib.axes._subplots.AxesSubplot at 0xe11b9b0>"
      ]
     },
     "execution_count": 17,
     "metadata": {},
     "output_type": "execute_result"
    },
    {
     "data": {
      "image/png": "[encoded data removed]",
      "text/plain": [
       "<matplotlib.figure.Figure at 0xe012470>"
      ]
     },
     "metadata": {},
     "output_type": "display_data"
    }
   ],
   "source": [
    "# AGE\n",
    "# Create new figure with two axes\n",
    "fig, (axis1,axis2) = plt.subplots(1,2,figsize=(15,4))\n",
    "axis1.set_title('Original Age values - Titanic')\n",
    "axis2.set_title('New Age values - Titanic')\n",
    "\n",
    "# get average, std, and number of NaN values in titanic_df\n",
    "average_age_titanic   = titanic_df[\"Age\"].mean()\n",
    "std_age_titanic       = titanic_df[\"Age\"].std()\n",
    "count_nan_age_titanic = titanic_df[\"Age\"].isnull().sum() # take age column give me all those that are null and sum the amount(count the NANs)\n",
    "\n",
    "# get average, std, and number of NaN values in test_df\n",
    "average_age_test   = test_df[\"Age\"].mean()\n",
    "std_age_test       = test_df[\"Age\"].std()\n",
    "count_nan_age_test = test_df[\"Age\"].isnull().sum()\n",
    "\n",
    "rand_1 = np.random.randint(average_age_titanic - std_age_titanic, average_age_titanic + std_age_titanic, size = count_nan_age_titanic)\n",
    "rand_2 = np.random.randint(average_age_test - std_age_test, average_age_test + std_age_test, size = count_nan_age_test)\n",
    "\n",
    "# fill NaN values in Age column with random values generated\n",
    "titanic_df[\"Age\"][np.isnan(titanic_df[\"Age\"])] = rand_1\n",
    "test_df[\"Age\"][np.isnan(test_df[\"Age\"])] = rand_2\n",
    "\n",
    "# convert from float to int\n",
    "titanic_df['Age'] = titanic_df['Age'].astype(int)\n",
    "test_df['Age']    = test_df['Age'].astype(int)\n",
    "\n",
    "# plot original Age values\n",
    "titanic_df['Age'].hist(bins=70, ax=axis1)\n",
    "\n",
    "# plot new Age Values\n",
    "titanic_df['Age'].hist(bins=70, ax=axis2)"
   ]
  },
  {
   "cell_type": "code",
   "execution_count": 18,
   "metadata": {
    "collapsed": false
   },
   "outputs": [
    {
     "data": {
      "text/plain": [
       "<seaborn.axisgrid.FacetGrid at 0xc9fc198>"
      ]
     },
     "execution_count": 18,
     "metadata": {},
     "output_type": "execute_result"
    },
    {
     "data": {
      "image/png": "[encoded data removed]",
      "text/plain": [
       "<matplotlib.figure.Figure at 0xe1d2f28>"
      ]
     },
     "metadata": {},
     "output_type": "display_data"
    }
   ],
   "source": [
    "# Looking at average numbers of passengers who survived based on age\n",
    "# peaks for survived/not survived passengers by their age\n",
    "facet = sns.FacetGrid(titanic_df, hue=\"Survived\",aspect=4)\n",
    "facet.map(sns.kdeplot,'Age',shade= True)\n",
    "facet.set(xlim=(0, titanic_df['Age'].max()))\n",
    "facet.add_legend()"
   ]
  },
  {
   "cell_type": "code",
   "execution_count": 19,
   "metadata": {
    "collapsed": false
   },
   "outputs": [
    {
     "data": {
      "text/plain": [
       "<matplotlib.axes._subplots.AxesSubplot at 0xda44780>"
      ]
     },
     "execution_count": 19,
     "metadata": {},
     "output_type": "execute_result"
    },
    {
     "data": {
      "image/png": "[encoded data removed]",
      "text/plain": [
       "<matplotlib.figure.Figure at 0xcbb8668>"
      ]
     },
     "metadata": {},
     "output_type": "display_data"
    }
   ],
   "source": [
    "fig, axis1 = plt.subplots(1,1,figsize=(18,4))\n",
    "average_age = titanic_df[[\"Age\", \"Survived\"]].groupby(['Age'],as_index=False).mean()\n",
    "sns.barplot(x='Age', y='Survived', data=average_age)\n",
    "# There was a worse chance of surviving if you were between 14 and 47. Much better chance of surviving if you are over 48 or under 14 e.g.\n",
    "# every child aged 0, 5, 12 and 13 survived. There may have been just one child aged 0 and they got on to a lifeboat first"
   ]
  },
  {
   "cell_type": "code",
   "execution_count": 22,
   "metadata": {
    "collapsed": false
   },
   "outputs": [
    {
     "data": {
      "text/plain": [
       "<matplotlib.axes._subplots.AxesSubplot at 0xf1d57f0>"
      ]
     },
     "execution_count": 22,
     "metadata": {},
     "output_type": "execute_result"
    },
    {
     "data": {
      "image/png": "[encoded data removed]",
      "text/plain": [
       "<matplotlib.figure.Figure at 0xe8ecfd0>"
      ]
     },
     "metadata": {},
     "output_type": "display_data"
    }
   ],
   "source": [
    "# SEX\n",
    "# As we see, children(age < ~16) on aboard seem to have a high chances for Survival.\n",
    "# So, we can classify passengers as males, females, and child\n",
    "def get_person(passenger):\n",
    "    age,sex = passenger\n",
    "    return 'child' if age < 16 else sex\n",
    "\n",
    "titanic_df['Person'] = titanic_df[['Age','Sex']].apply(get_person,axis=1)\n",
    "test_df['Person'] = test_df[['Age','Sex']].apply(get_person,axis=1)\n",
    "\n",
    "# No need to use Sex column since we created Person column\n",
    "titanic_df.drop(['Sex'],axis=1,inplace=True)\n",
    "test_df.drop(['Sex'],axis=1,inplace=True)\n",
    "\n",
    "# create dummy variables for Person column\n",
    "person_dummies_titanic  = pd.get_dummies(titanic_df['Person'])\n",
    "person_dummies_titanic.columns = ['Child','Female','Male']\n",
    "person_dummies_test  = pd.get_dummies(test_df['Person'])\n",
    "person_dummies_test.columns = ['Child','Female','Male']\n",
    "\n",
    "titanic_df = titanic_df.join(person_dummies_titanic)\n",
    "test_df    = test_df.join(person_dummies_test)\n",
    "\n",
    "fig, (axis1,axis2) = plt.subplots(1,2,figsize=(10,5))\n",
    "sns.countplot(x='Person', data=titanic_df, ax=axis1)\n",
    "\n",
    "# average of survived for each Person(male, female, or child)\n",
    "person_perc = titanic_df[[\"Person\", \"Survived\"]].groupby(['Person'],as_index=False).mean()\n",
    "sns.barplot(x='Person', y='Survived', data=person_perc, ax=axis2, order=['male','female','child'])\n"
   ]
  },
  {
   "cell_type": "code",
   "execution_count": 23,
   "metadata": {
    "collapsed": false,
    "scrolled": true
   },
   "outputs": [],
   "source": [
    "# Drop person column\n",
    "titanic_df.drop(['Person'],axis=1,inplace=True)\n",
    "test_df.drop(['Person'],axis=1,inplace=True)"
   ]
  },
  {
   "cell_type": "code",
   "execution_count": 24,
   "metadata": {
    "collapsed": false
   },
   "outputs": [
    {
     "data": {
      "text/plain": [
       "<seaborn.axisgrid.FacetGrid at 0xe977da0>"
      ]
     },
     "execution_count": 24,
     "metadata": {},
     "output_type": "execute_result"
    },
    {
     "data": {
      "image/png": "[encoded data removed]",
      "text/plain": [
       "<matplotlib.figure.Figure at 0xe94af60>"
      ]
     },
     "metadata": {},
     "output_type": "display_data"
    }
   ],
   "source": [
    "# PCLASS\n",
    "# First class had a much higher level of survival\n",
    "sns.factorplot('Pclass','Survived',order=[1,2,3], data=titanic_df,size=5)"
   ]
  },
  {
   "cell_type": "code",
   "execution_count": 25,
   "metadata": {
    "collapsed": false
   },
   "outputs": [
    {
     "name": "stdout",
     "output_type": "stream",
     "text": [
      "<class 'pandas.core.frame.DataFrame'>\n",
      "RangeIndex: 891 entries, 0 to 890\n",
      "Data columns (total 21 columns):\n",
      "Survived          891 non-null int64\n",
      "Pclass            891 non-null int64\n",
      "Age               891 non-null int32\n",
      "Fare              891 non-null int32\n",
      "Dr                891 non-null float64\n",
      "Master            891 non-null float64\n",
      "Military Title    891 non-null float64\n",
      "Miss              891 non-null float64\n",
      "Mr                891 non-null float64\n",
      "Mrs               891 non-null float64\n",
      "Rare Title        891 non-null float64\n",
      "Rev               891 non-null float64\n",
      "Large Family      891 non-null float64\n",
      "Singleton         891 non-null float64\n",
      "Small Family      891 non-null float64\n",
      "C                 891 non-null float64\n",
      "Q                 891 non-null float64\n",
      "S                 891 non-null float64\n",
      "Child             891 non-null float64\n",
      "Female            891 non-null float64\n",
      "Male              891 non-null float64\n",
      "dtypes: float64(17), int32(2), int64(2)\n",
      "memory usage: 139.3 KB\n",
      "<class 'pandas.core.frame.DataFrame'>\n",
      "RangeIndex: 418 entries, 0 to 417\n",
      "Data columns (total 21 columns):\n",
      "PassengerId       418 non-null int64\n",
      "Pclass            418 non-null int64\n",
      "Age               418 non-null int32\n",
      "Fare              418 non-null int32\n",
      "Dr                418 non-null float64\n",
      "Master            418 non-null float64\n",
      "Military Title    418 non-null float64\n",
      "Miss              418 non-null float64\n",
      "Mr                418 non-null float64\n",
      "Mrs               418 non-null float64\n",
      "Rare Title        418 non-null float64\n",
      "Rev               418 non-null float64\n",
      "Large Family      418 non-null float64\n",
      "Singleton         418 non-null float64\n",
      "Small Family      418 non-null float64\n",
      "C                 418 non-null float64\n",
      "Q                 418 non-null float64\n",
      "S                 418 non-null float64\n",
      "Child             418 non-null float64\n",
      "Female            418 non-null float64\n",
      "Male              418 non-null float64\n",
      "dtypes: float64(17), int32(2), int64(2)\n",
      "memory usage: 65.4 KB\n"
     ]
    }
   ],
   "source": [
    "#Print information about each\n",
    "titanic_df.info()\n",
    "test_df.info()"
   ]
  },
  {
   "cell_type": "code",
   "execution_count": 26,
   "metadata": {
    "collapsed": true
   },
   "outputs": [],
   "source": [
    "# DEFINE TRAINING AND TESTING SETS\n",
    "# X train and Y train are the same except for the removed survived column\n",
    "X_train = titanic_df.drop(\"Survived\", axis=1) # dropped the survived column\n",
    "Y_train = titanic_df[\"Survived\"] # the answer\n",
    "X_test  = test_df.drop(\"PassengerId\", axis=1).copy()\n"
   ]
  },
  {
   "cell_type": "code",
   "execution_count": 27,
   "metadata": {
    "collapsed": false
   },
   "outputs": [
    {
     "name": "stdout",
     "output_type": "stream",
     "text": [
      "Logistic Regression Score: 0.826038159371\n"
     ]
    }
   ],
   "source": [
    "# MODELLING\n",
    "\n",
    "# Logistic Regression\n",
    "# Score is for the x_train performance against y train\n",
    "logreg = LogisticRegression()\n",
    "logreg.fit(X_train, Y_train)\n",
    "Y_pred = logreg.predict(X_test)\n",
    "lr_score = logreg.score(X_train, Y_train)\n",
    "print 'Logistic Regression Score:', lr_score"
   ]
  },
  {
   "cell_type": "code",
   "execution_count": 28,
   "metadata": {
    "collapsed": false
   },
   "outputs": [
    {
     "name": "stdout",
     "output_type": "stream",
     "text": [
      "Logistic Regression with cross validation accuracy:  0.820426487093\n"
     ]
    }
   ],
   "source": [
    "# Logistic Regression using Cross Validation using logreg defined above\n",
    "# accuracy is the prediction compared to Y_Train correct details.\n",
    "LRPredict = cross_validation.cross_val_predict(logreg, X_train, Y_train, cv=10)\n",
    "print 'Logistic Regression with cross validation accuracy: ', metrics.accuracy_score(Y_train, LRPredict) \n"
   ]
  },
  {
   "cell_type": "code",
   "execution_count": 29,
   "metadata": {
    "collapsed": false
   },
   "outputs": [
    {
     "name": "stdout",
     "output_type": "stream",
     "text": [
      "Random Forest score: 0.96632996633\n",
      "Random Forest with cross validation accuracy:  0.799102132435\n"
     ]
    }
   ],
   "source": [
    "# Random Forest\n",
    "random_forest = RandomForestClassifier(n_estimators=100)\n",
    "random_forest.fit(X_train, Y_train)\n",
    "Y_pred = random_forest.predict(X_test)\n",
    "rf_score = random_forest.score(X_train, Y_train)\n",
    "print 'Random Forest score:', rf_score\n",
    "\n",
    "# Random Forest with Cross Validationusing random_forest defined above\n",
    "RFPredict = cross_validation.cross_val_predict(random_forest, X_train, Y_train, cv=10)\n",
    "print 'Random Forest with cross validation accuracy: ', metrics.accuracy_score(Y_train, RFPredict) "
   ]
  },
  {
   "cell_type": "code",
   "execution_count": 30,
   "metadata": {
    "collapsed": false
   },
   "outputs": [
    {
     "name": "stdout",
     "output_type": "stream",
     "text": [
      "KNN score: 0.830527497194\n",
      "KNN with cross validation: 0.704826038159\n"
     ]
    }
   ],
   "source": [
    "# K Nearest Neighbours\n",
    "knn = KNeighborsClassifier(n_neighbors = 3)\n",
    "knn.fit(X_train, Y_train)\n",
    "Y_pred = knn.predict(X_test)\n",
    "knn_score = knn.score(X_train, Y_train)\n",
    "print 'KNN score:', knn_score\n",
    "\n",
    "# K Nearest Neighbours with Cross Validation using knn defined above\n",
    "KNNPredict = cross_validation.cross_val_predict(knn, X_train, Y_train, cv = 10)\n",
    "print 'KNN with cross validation:', metrics.accuracy_score(Y_train, KNNPredict)"
   ]
  },
  {
   "cell_type": "code",
   "execution_count": 31,
   "metadata": {
    "collapsed": false
   },
   "outputs": [
    {
     "name": "stdout",
     "output_type": "stream",
     "text": [
      "Gaussian Naive Bayes score: 0.783389450056\n",
      "Gaussian Naive Bayes with cross validation: 0.775533108866\n"
     ]
    }
   ],
   "source": [
    "# Gaussian Naive Bayes\n",
    "gaussian = GaussianNB()\n",
    "gaussian.fit(X_train, Y_train)\n",
    "Y_pred = gaussian.predict(X_test)\n",
    "gnb_score = gaussian.score(X_train, Y_train)\n",
    "print 'Gaussian Naive Bayes score:', gnb_score\n",
    "\n",
    "# Gaussian Naive Bayes with cross validation\n",
    "GNBPredict = cross_validation.cross_val_predict(gaussian, X_train, Y_train, cv = 10)\n",
    "print 'Gaussian Naive Bayes with cross validation:', metrics.accuracy_score(Y_train, GNBPredict)"
   ]
  },
  {
   "cell_type": "code",
   "execution_count": 32,
   "metadata": {
    "collapsed": false
   },
   "outputs": [
    {
     "name": "stdout",
     "output_type": "stream",
     "text": [
      "SVC with cross validation accuracy:  0.820426487093\n",
      "Support Vector Machine score: 0.852974186308\n"
     ]
    }
   ],
   "source": [
    "# Support Vector Machine using Cross Validation\n",
    "cvSVC = SVC(kernel='linear', C=1)\n",
    "SVCPredict = cross_validation.cross_val_predict(cvSVC, X_train, Y_train, cv=10)\n",
    "print 'SVC with cross validation accuracy: ', metrics.accuracy_score(Y_train, SVCPredict) \n",
    "\n",
    "# Define function to get the prediction accuracy of Support Vector Machine\n",
    "# This is my final model so I am defining it as a function so it can be tested\n",
    "def get_prediction_accuracy(X_train, Y_train):\n",
    "    svc = SVC()\n",
    "    svc.fit(X_train, Y_train)\n",
    "    return svc.score(X_train, Y_train)\n",
    "\n",
    "print 'Support Vector Machine score:', get_prediction_accuracy(X_train, Y_train)"
   ]
  },
  {
   "cell_type": "code",
   "execution_count": null,
   "metadata": {
    "collapsed": true
   },
   "outputs": [],
   "source": []
  }
 ],
 "metadata": {
  "anaconda-cloud": {},
  "kernelspec": {
   "display_name": "Python [Siobhan]",
   "language": "python",
   "name": "Python [Siobhan]"
  },
  "language_info": {
   "codemirror_mode": {
    "name": "ipython",
    "version": 2
   },
   "file_extension": ".py",
   "mimetype": "text/x-python",
   "name": "python",
   "nbconvert_exporter": "python",
   "pygments_lexer": "ipython2",
   "version": "2.7.11"
  }
 },
 "nbformat": 4,
 "nbformat_minor": 0
}
