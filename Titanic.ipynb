{
 "cells": [
  {
   "cell_type": "markdown",
   "metadata": {},
   "source": [
    "# Surviving the Titanic\n",
    "The problem is to use machine learning algorithms to create a model to predict which passengers survived and which perished in the Titanic disaster.  \n",
    "\n",
    "The data set is from https://www.kaggle.com/c/titanic. It consists of training data set and a testing dataset. Both are csv files. Using the below code I read in the data from each file into a dataframe in python. I used the dtype argument to specify that the Age column should be set to type float64. I was then able to call the .info() method on each to bring back information on the data sets."
   ]
  },
  {
   "cell_type": "code",
   "execution_count": 28,
   "metadata": {
    "collapsed": false,
    "scrolled": true
   },
   "outputs": [],
   "source": [
    "# Imports\n",
    "# pandas\n",
    "import pandas as pd\n",
    "from pandas import Series,DataFrame\n",
    "\n",
    "# numpy, matplotlib, seaborn\n",
    "import numpy as np\n",
    "import matplotlib.pyplot as plt\n",
    "\n",
    "# import seaborn by \"pip install seaborn\" \n",
    "import seaborn as sns\n",
    "sns.set_style('whitegrid')\n",
    "%matplotlib inline\n",
    "\n",
    "# import machine learning libraries\n",
    "from sklearn import cross_validation\n",
    "from sklearn import metrics\n",
    "from sklearn.linear_model import LogisticRegression\n",
    "from sklearn.svm import SVC, LinearSVC\n",
    "from sklearn.ensemble import RandomForestClassifier\n",
    "from sklearn.neighbors import KNeighborsClassifier\n",
    "from sklearn.naive_bayes import GaussianNB\n",
    "\n",
    "# Get titanic & test csv files as a DataFrame\n",
    "titanic_df = pd.read_csv(\"train.csv\", dtype={\"Age\": np.float64}, )\n",
    "test_df    = pd.read_csv(\"test.csv\", dtype={\"Age\": np.float64}, )"
   ]
  },
  {
   "cell_type": "code",
   "execution_count": 29,
   "metadata": {
    "collapsed": false
   },
   "outputs": [
    {
     "name": "stdout",
     "output_type": "stream",
     "text": [
      "   PassengerId  Survived  Pclass  \\\n",
      "0            1         0       3   \n",
      "1            2         1       1   \n",
      "2            3         1       3   \n",
      "3            4         1       1   \n",
      "4            5         0       3   \n",
      "\n",
      "                                                Name     Sex   Age  SibSp  \\\n",
      "0                            Braund, Mr. Owen Harris    male  22.0      1   \n",
      "1  Cumings, Mrs. John Bradley (Florence Briggs Th...  female  38.0      1   \n",
      "2                             Heikkinen, Miss. Laina  female  26.0      0   \n",
      "3       Futrelle, Mrs. Jacques Heath (Lily May Peel)  female  35.0      1   \n",
      "4                           Allen, Mr. William Henry    male  35.0      0   \n",
      "\n",
      "   Parch            Ticket     Fare Cabin Embarked  \n",
      "0      0         A/5 21171   7.2500   NaN        S  \n",
      "1      0          PC 17599  71.2833   C85        C  \n",
      "2      0  STON/O2. 3101282   7.9250   NaN        S  \n",
      "3      0            113803  53.1000  C123        S  \n",
      "4      0            373450   8.0500   NaN        S  \n"
     ]
    }
   ],
   "source": [
    "# preview the data\n",
    "print titanic_df.head()"
   ]
  },
  {
   "cell_type": "code",
   "execution_count": 4,
   "metadata": {
    "collapsed": false
   },
   "outputs": [
    {
     "name": "stdout",
     "output_type": "stream",
     "text": [
      "<class 'pandas.core.frame.DataFrame'>\n",
      "RangeIndex: 891 entries, 0 to 890\n",
      "Data columns (total 12 columns):\n",
      "PassengerId    891 non-null int64\n",
      "Survived       891 non-null int64\n",
      "Pclass         891 non-null int64\n",
      "Name           891 non-null object\n",
      "Sex            891 non-null object\n",
      "Age            714 non-null float64\n",
      "SibSp          891 non-null int64\n",
      "Parch          891 non-null int64\n",
      "Ticket         891 non-null object\n",
      "Fare           891 non-null float64\n",
      "Cabin          204 non-null object\n",
      "Embarked       889 non-null object\n",
      "dtypes: float64(2), int64(5), object(5)\n",
      "memory usage: 83.6+ KB\n",
      "----------------------------\n",
      "<class 'pandas.core.frame.DataFrame'>\n",
      "RangeIndex: 418 entries, 0 to 417\n",
      "Data columns (total 11 columns):\n",
      "PassengerId    418 non-null int64\n",
      "Pclass         418 non-null int64\n",
      "Name           418 non-null object\n",
      "Sex            418 non-null object\n",
      "Age            332 non-null float64\n",
      "SibSp          418 non-null int64\n",
      "Parch          418 non-null int64\n",
      "Ticket         418 non-null object\n",
      "Fare           417 non-null float64\n",
      "Cabin          91 non-null object\n",
      "Embarked       418 non-null object\n",
      "dtypes: float64(2), int64(4), object(5)\n",
      "memory usage: 36.0+ KB\n"
     ]
    }
   ],
   "source": [
    "# print details\n",
    "titanic_df.info()\n",
    "print(\"----------------------------\")\n",
    "test_df.info()"
   ]
  },
  {
   "cell_type": "markdown",
   "metadata": {},
   "source": [
    "There are missing values for Age, Cabin and Embarked in the training dataset e.g. the column Age has 714 entries out of a possible 891. The training dataset has missing values for Age and Cabin and 1 missing value for fare.  \n",
    "\n",
    "The ticket column is just the ticket number. It is not likely to be useful in analysis or prediction so I am going to drop it in both the training and test datasets."
   ]
  },
  {
   "cell_type": "code",
   "execution_count": 30,
   "metadata": {
    "collapsed": true
   },
   "outputs": [],
   "source": [
    "# drop the ticket columns in each, it is just a ticket number so is unlikely to be useful in analysis and prediction\n",
    "titanic_df = titanic_df.drop(['PassengerId','Ticket'], axis=1)\n",
    "test_df = test_df.drop(['Ticket'], axis=1)"
   ]
  },
  {
   "cell_type": "markdown",
   "metadata": {},
   "source": [
    "## Title ##\n",
    "There is a title associated with the names. This could be important so I decided to create a new column for Title and print out the findings."
   ]
  },
  {
   "cell_type": "code",
   "execution_count": 31,
   "metadata": {
    "collapsed": false
   },
   "outputs": [
    {
     "data": {
      "text/plain": [
       "Mr              517\n",
       "Miss            182\n",
       "Mrs             125\n",
       "Master           40\n",
       "Dr                7\n",
       "Rev               6\n",
       "Mlle              2\n",
       "Col               2\n",
       "Major             2\n",
       "Lady              1\n",
       "Jonkheer          1\n",
       "Don               1\n",
       "Ms                1\n",
       "Mme               1\n",
       "Capt              1\n",
       "the Countess      1\n",
       "Sir               1\n",
       "Name: Title, dtype: int64"
      ]
     },
     "execution_count": 31,
     "metadata": {},
     "output_type": "execute_result"
    }
   ],
   "source": [
    "# TITLE\n",
    "# Create new title column and get title by splitting the passenger name column\n",
    "titanic_df['Title'] = titanic_df['Name'].apply(lambda x: x.split(',')[1].strip().split('.')[0])\n",
    "test_df['Title'] = test_df['Name'].apply(lambda x: x.split(',')[1].strip().split('.')[0])\n",
    "titanic_df['Title'].value_counts()"
   ]
  },
  {
   "cell_type": "markdown",
   "metadata": {},
   "source": [
    "Mlle and Mme are just a translation of Miss and Mrs so it makes sense to just change these to match the English version. I also changed Ms to Miss. I decided it would be interesting to see if being a Dr or Rev or having a military title would have had any impact on your survival chances so I left Dr and Rev as is and changed Col, Major and Capt to “Military Title”. The other titles have very few people so I combined them into one group and changed them all to “Rare Title”. I then plotted survival against Title to get the below barchart."
   ]
  },
  {
   "cell_type": "code",
   "execution_count": 32,
   "metadata": {
    "collapsed": false
   },
   "outputs": [
    {
     "data": {
      "text/plain": [
       "<matplotlib.axes._subplots.AxesSubplot at 0xebe7668>"
      ]
     },
     "execution_count": 32,
     "metadata": {},
     "output_type": "execute_result"
    },
    {
     "data": {
      "image/png": "[encoded data removed]",
      "text/plain": [
       "<matplotlib.figure.Figure at 0xebe72e8>"
      ]
     },
     "metadata": {},
     "output_type": "display_data"
    }
   ],
   "source": [
    "# In titanic_df change Mlle and Ms to Miss, Mme to Mrs. Changed Col, Major and Capt to Military Title and all others to Rare Title\n",
    "titanic_df['Title'] = np.where(titanic_df['Title'].isin(['Mlle', 'Ms']), 'Miss', titanic_df['Title'])\n",
    "titanic_df['Title'] = np.where(titanic_df['Title'].isin(['Mme']), 'Mrs', titanic_df['Title'])\n",
    "titanic_df['Title'] = np.where(titanic_df['Title'].isin(['Major', 'Col', 'Capt']), 'Military Title', titanic_df['Title'])\n",
    "titanic_df['Title'] = np.where(titanic_df['Title'].isin(['Jonkheer', 'Lady', 'Don', 'Dona', 'the Countess', 'Sir']), 'Rare Title', titanic_df['Title'])\n",
    "\n",
    "# Plot Title vs Survived\n",
    "title_perc = titanic_df[['Title', 'Survived']].groupby(['Title'], as_index = False).mean()\n",
    "sns.barplot(x = 'Title', y = 'Survived', data = title_perc)\n"
   ]
  },
  {
   "cell_type": "markdown",
   "metadata": {},
   "source": [
    "This shows that Mrs and Miss were the most likely to survive which is what I would expect given that women and children were first into the lifeboats. Next is those with a rare title. Here there are very few records but those with a rare title were more likely to survive than the other titles with small numbers of values. Usually those with one of these rare titles would be wealthy and we have a preconceived notion they would therefore be more likely to survive. A better way to look at this will be examining the Pclass. Those with the title Rev all perished.   \n",
    "\n",
    "The sklearn package in Python needs all variables input as numbers. Title is categorical so I need to create dummy variables to deal with this. The pandas method get_dummies() will create the correct number of dummy variables when given a variable as an argument. For title it creates a new variable with names as above. Each record is given a 1 or 0 in each variable depending on its value in Title.   \n",
    "\n",
    "I then dropped the name and title variables from the data frame as the data I plan to use is now in the new variables Dr, Master, Military Title, Miss, Mr, Mrs, Rare Title and Rev. "
   ]
  },
  {
   "cell_type": "code",
   "execution_count": 33,
   "metadata": {
    "collapsed": true
   },
   "outputs": [],
   "source": [
    "# Make the same changes in test_df\n",
    "test_df['Title'] = np.where(test_df['Title'].isin(['Mlle', 'Ms']), 'Miss', test_df['Title'])\n",
    "test_df['Title'] = np.where(test_df['Title'].isin(['Mme']), 'Mrs', test_df['Title'])\n",
    "test_df['Title'] = np.where(test_df['Title'].isin(['Major', 'Col', 'Capt']), 'Military Title', test_df['Title'])\n",
    "test_df['Title'] = np.where(test_df['Title'].isin(['Jonkheer', 'Lady', 'Don', 'Dona', 'the Countess', 'Sir']), 'Rare Title', test_df['Title'])\n",
    "\n",
    "# Need to create dummy variables to handle categorical data for sklearn\n",
    "title_dummies_titanic = pd.get_dummies(titanic_df['Title'])\n",
    "title_dummies_test = pd.get_dummies(test_df['Title'])\n",
    "\n",
    "titanic_df = titanic_df.join(title_dummies_titanic)\n",
    "test_df = test_df.join(title_dummies_test)\n",
    "\n",
    "# Drop Name variable and drop Title as the data is contained in new dummy variables\n",
    "titanic_df = titanic_df.drop(['Name', 'Title'], axis=1)\n",
    "test_df    = test_df.drop(['Name', 'Title'], axis=1)"
   ]
  },
  {
   "cell_type": "markdown",
   "metadata": {},
   "source": [
    "## Family ##\n",
    "\n",
    "As I said above women and children were first to be ordered into the lifeboats. There is information in the data set about whether people had a sibling, spouse, parent or child aboard so I can use this to look at families and see if you were more or less likely to survive if you were part of a family. I created a FamilySize variable made up of SibSp + ParCh + 1. "
   ]
  },
  {
   "cell_type": "code",
   "execution_count": 34,
   "metadata": {
    "collapsed": false
   },
   "outputs": [
    {
     "data": {
      "text/plain": [
       "<matplotlib.axes._subplots.AxesSubplot at 0xf2235c0>"
      ]
     },
     "execution_count": 34,
     "metadata": {},
     "output_type": "execute_result"
    },
    {
     "data": {
      "image/png": "[encoded data removed]",
      "text/plain": [
       "<matplotlib.figure.Figure at 0xe8ee710>"
      ]
     },
     "metadata": {},
     "output_type": "display_data"
    }
   ],
   "source": [
    "# FAMILY\n",
    "# Create a family size variable = number parents/children + number siblings/spouses + 1 for the passenger themselves\n",
    "titanic_df['FamilySize'] =  titanic_df[\"Parch\"] + titanic_df[\"SibSp\"] + 1\n",
    "test_df['FamilySize'] =  test_df[\"Parch\"] + test_df[\"SibSp\"] + 1\n",
    "\n",
    "fig, (axis1, axis2) = plt.subplots(1,2,figsize=(15,4))\n",
    "\n",
    "# Plot the Family size showing number who survived and died\n",
    "sns.countplot(x = 'FamilySize', hue= 'Survived', data = titanic_df, ax = axis1)\n",
    "\n",
    "# Create function to be called on the FamilySize column that returns 'singleton', 'small' or 'large' depending on the size of the family\n",
    "def discrete_family_size(x):\n",
    "    if x == 1:\n",
    "        return 'Singleton'\n",
    "    elif x > 4:\n",
    "        return 'Large Family'\n",
    "    else:\n",
    "        return 'Small Family'\n",
    "\n",
    "# Apply the function to replace the values of FamilySize with the discretized values \n",
    "titanic_df['FamilySizeD'] = titanic_df['FamilySize'].apply(discrete_family_size)        \n",
    "test_df['FamilySizeD'] = test_df['FamilySize'].apply(discrete_family_size) \n",
    "sns.countplot(x = 'FamilySizeD', hue= 'Survived', data = titanic_df, ax = axis2)    "
   ]
  },
  {
   "cell_type": "markdown",
   "metadata": {},
   "source": [
    "Plotting a count of family sizes compared to the number of people who survived and perished shows that you had a much better chance of surviving if you were in a family of 2, 3 or 4 compared to larger families or those travelling alone. \n",
    "\n",
    "I then changed FamilySize to discretized values of FamilySize -  Singleton where FamilySize is 1, Small Family where there are 2 - 4 and Large Family where there are 5 or more in a family. I plotted the graph again on the right using the FamilySize variable and it makes it even clearer which family size had the best survival rate.\n",
    "\n",
    "I then created dummy variables  Singleton, Small Family and Large Family, so that I can use these in my model, and dropped SibSp, ParCh and FamilySize as these have been taken into account in the dummy variables"
   ]
  },
  {
   "cell_type": "code",
   "execution_count": 35,
   "metadata": {
    "collapsed": true
   },
   "outputs": [],
   "source": [
    "# Create dummy variables for FamilySize\n",
    "fsized_dummies_titanic = pd.get_dummies(titanic_df['FamilySizeD'])\n",
    "fsized_dummies_test = pd.get_dummies(test_df['FamilySizeD'])\n",
    "\n",
    "titanic_df = titanic_df.join(fsized_dummies_titanic)\n",
    "test_df = test_df.join(fsized_dummies_test)\n",
    "\n",
    "# Drop SibSp, ParCh, FamilySize as the information is contained in new dummy variables Singleton, Small and Large\n",
    "titanic_df = titanic_df.drop(['SibSp','Parch', 'FamilySize', 'FamilySizeD'], axis=1)\n",
    "test_df    = test_df.drop(['SibSp','Parch', 'FamilySize', 'FamilySizeD'], axis=1)"
   ]
  },
  {
   "cell_type": "markdown",
   "metadata": {},
   "source": [
    "## Missing Variables ##\n",
    "\n",
    "In the training dataset there are missing values for Age, Cabin and Embarked while in the test data set Age, Cabin and Fare are missing values.\n",
    "\n",
    "### Embarked ###\n",
    "\n",
    "There are two missing values in the test set for Embarked. Using the R solution, I found that these people had paid $80. When you look at the others who paid this fare the majority embarked from Cherbourg so it makes sense to set Embarked for both of these to C. I plotted the following graphs. The majority of people left from Southampton but they had the lowest survival rate. Many of those who boarded in Southampton would have been emigrating so they were poor and most likely in third class. We’ll see later that this gave them a low chance of survival."
   ]
  },
  {
   "cell_type": "code",
   "execution_count": 36,
   "metadata": {
    "collapsed": false
   },
   "outputs": [
    {
     "data": {
      "text/plain": [
       "<matplotlib.axes._subplots.AxesSubplot at 0xf89cac8>"
      ]
     },
     "execution_count": 36,
     "metadata": {},
     "output_type": "execute_result"
    },
    {
     "data": {
      "image/png": "[encoded data removed]",
      "text/plain": [
       "<matplotlib.figure.Figure at 0xe2d57b8>"
      ]
     },
     "metadata": {},
     "output_type": "display_data"
    }
   ],
   "source": [
    "# MISSING VALUES\n",
    "\n",
    "# EMBARKED\n",
    "# Fill in the missing values for embarked using the value found as most likely by Megan Risdal's R script \n",
    "# where she looked at the fare paid by the people whose Embarked value is missing and looked at the others who paid this\n",
    "# fare and found that Embarked for the group of people who paid this fare was Cherbourg\n",
    "titanic_df[\"Embarked\"] = titanic_df[\"Embarked\"].fillna(\"C\")\n",
    "\n",
    "fig, (axis1,axis2,axis3) = plt.subplots(1,3,figsize=(15,5))\n",
    "# create countplot showing embarked and another showing survived with different bars for where they embarked\n",
    "sns.countplot(x='Embarked', data=titanic_df, ax=axis1)\n",
    "sns.countplot(x='Survived', hue=\"Embarked\", data=titanic_df, order=[1,0], ax=axis2)\n",
    "\n",
    "# group by embarked, and get the mean for survived passengers for each value in Embarked\n",
    "embark_perc = titanic_df[[\"Embarked\", \"Survived\"]].groupby(['Embarked'],as_index=False).mean()\n",
    "sns.barplot(x='Embarked', y='Survived', data=embark_perc,order=['S','C','Q'],ax=axis3)"
   ]
  },
  {
   "cell_type": "code",
   "execution_count": 37,
   "metadata": {
    "collapsed": true
   },
   "outputs": [],
   "source": [
    "# Create dummy variables for C, Q and S\n",
    "embark_dummies_titanic = pd.get_dummies(titanic_df['Embarked'])\n",
    "embark_dummies_test = pd.get_dummies(test_df['Embarked'])\n",
    "\n",
    "titanic_df = titanic_df.join(embark_dummies_titanic)\n",
    "test_df = test_df.join(embark_dummies_test)\n",
    "\n",
    "# Dropped Embarked as C, Q and S have been added as dummy variables\n",
    "titanic_df.drop(['Embarked'], axis=1,inplace=True)\n",
    "test_df.drop(['Embarked'], axis=1,inplace=True)"
   ]
  },
  {
   "cell_type": "markdown",
   "metadata": {},
   "source": [
    "### Cabin ###\n",
    "\n",
    "The cabin field is missing over 800 values between the training and test sets. This is far too many to try to compute. It would also make no sense to try replacing them with other values unless you had a list of all the cabins and could make some sort of sensible imputation based on fare and pclass. As fare and pclass are going to be part of the model then the data from them will already be used. For this model I am dropping Cabin as a variable. "
   ]
  },
  {
   "cell_type": "code",
   "execution_count": 38,
   "metadata": {
    "collapsed": true
   },
   "outputs": [],
   "source": [
    "# CABIN\n",
    "# There are a huge amount of missing values. It wouldn't make sense to try to fill them in so I am dropping Cabin\n",
    "titanic_df = titanic_df.drop(['Cabin'], axis=1)\n",
    "test_df = test_df.drop(['Cabin'], axis=1)"
   ]
  },
  {
   "cell_type": "markdown",
   "metadata": {},
   "source": [
    "### Fare###\n",
    "\n",
    "In the test data set, test_df, there is a missing value for fare. I replaced this with the median value of fare. I then plotted a histogram of fare and a bar chart of the average fares of those who survived and those who did not. The bar chart includes the standard deviation as the y error.\n"
   ]
  },
  {
   "cell_type": "code",
   "execution_count": 39,
   "metadata": {
    "collapsed": false
   },
   "outputs": [
    {
     "data": {
      "image/png": "[encoded data removed]",
      "text/plain": [
       "<matplotlib.figure.Figure at 0xbefd6a0>"
      ]
     },
     "metadata": {},
     "output_type": "display_data"
    }
   ],
   "source": [
    "# FARE\n",
    "# only for test_df, since there is a missing \"Fare\" values\n",
    "# Filling in the missing value with the median Fare value\n",
    "test_df[\"Fare\"].fillna(test_df[\"Fare\"].median(), inplace=True)\n",
    "\n",
    "# convert from float to int \n",
    "titanic_df['Fare'] = titanic_df['Fare'].astype(int)\n",
    "test_df['Fare']    = test_df['Fare'].astype(int)\n",
    "\n",
    "# get fare for survived & didn't survive passengers \n",
    "fare_not_survived = titanic_df[\"Fare\"][titanic_df[\"Survived\"] == 0]\n",
    "fare_survived     = titanic_df[\"Fare\"][titanic_df[\"Survived\"] == 1]\n",
    "\n",
    "# get average and std for fare of survived/not survived passengers\n",
    "avgerage_fare = DataFrame([fare_not_survived.mean(), fare_survived.mean()])\n",
    "std_fare      = DataFrame([fare_not_survived.std(), fare_survived.std()])\n",
    "\n",
    "# plot fare as a histogram\n",
    "fig, axis1 = plt.subplots(1,1,figsize=(10,3))\n",
    "fig = titanic_df['Fare'].plot(kind = 'hist', figsize=(10,3),bins=100, xlim=(0,50))"
   ]
  },
  {
   "cell_type": "code",
   "execution_count": 40,
   "metadata": {
    "collapsed": false
   },
   "outputs": [
    {
     "data": {
      "text/plain": [
       "<matplotlib.axes._subplots.AxesSubplot at 0xe6cad68>"
      ]
     },
     "execution_count": 40,
     "metadata": {},
     "output_type": "execute_result"
    },
    {
     "data": {
      "image/png": "[encoded data removed]",
      "text/plain": [
       "<matplotlib.figure.Figure at 0xebccb00>"
      ]
     },
     "metadata": {},
     "output_type": "display_data"
    }
   ],
   "source": [
    "avgerage_fare.index.names = std_fare.index.names = [\"Survived\"]\n",
    "avgerage_fare.plot(yerr=std_fare, kind = 'bar', legend = False)"
   ]
  },
  {
   "cell_type": "markdown",
   "metadata": {},
   "source": [
    "### Age ###\n",
    "\n",
    "There are 263 missing age values between the training and testing datasets. This is a high number. There are a number of ways of imputing the missing values. I have decided to replace them with random numbers between average age minusstandard deviation and average age plus standard deviation. This should keep the distribution of ages the same. Below are the histograms showing the original age distribution and the new distribution after the random age values have been added. This shows the distribution has not been skewed."
   ]
  },
  {
   "cell_type": "code",
   "execution_count": 41,
   "metadata": {
    "collapsed": false
   },
   "outputs": [
    {
     "name": "stderr",
     "output_type": "stream",
     "text": [
      "C:\\Users\\barre\\Miniconda2\\envs\\Siobhan\\lib\\site-packages\\ipykernel\\__main__.py:21: SettingWithCopyWarning: \n",
      "A value is trying to be set on a copy of a slice from a DataFrame\n",
      "\n",
      "See the caveats in the documentation: http://pandas.pydata.org/pandas-docs/stable/indexing.html#indexing-view-versus-copy\n",
      "C:\\Users\\barre\\Miniconda2\\envs\\Siobhan\\lib\\site-packages\\ipykernel\\__main__.py:22: SettingWithCopyWarning: \n",
      "A value is trying to be set on a copy of a slice from a DataFrame\n",
      "\n",
      "See the caveats in the documentation: http://pandas.pydata.org/pandas-docs/stable/indexing.html#indexing-view-versus-copy\n"
     ]
    },
    {
     "data": {
      "text/plain": [
       "<matplotlib.axes._subplots.AxesSubplot at 0x108a7a90>"
      ]
     },
     "execution_count": 41,
     "metadata": {},
     "output_type": "execute_result"
    },
    {
     "data": {
      "image/png": "[encoded data removed]",
      "text/plain": [
       "<matplotlib.figure.Figure at 0x10756588>"
      ]
     },
     "metadata": {},
     "output_type": "display_data"
    }
   ],
   "source": [
    "# AGE\n",
    "# Create new figure with two axes\n",
    "fig, (axis1,axis2) = plt.subplots(1,2,figsize=(15,4))\n",
    "axis1.set_title('Original Age values - Titanic')\n",
    "axis2.set_title('New Age values - Titanic')\n",
    "\n",
    "# get average, std, and number of NaN values in titanic_df\n",
    "average_age_titanic   = titanic_df[\"Age\"].mean()\n",
    "std_age_titanic       = titanic_df[\"Age\"].std()\n",
    "count_nan_age_titanic = titanic_df[\"Age\"].isnull().sum() # take age column give me all those that are null and sum the amount(count the NANs)\n",
    "\n",
    "# get average, std, and number of NaN values in test_df\n",
    "average_age_test   = test_df[\"Age\"].mean()\n",
    "std_age_test       = test_df[\"Age\"].std()\n",
    "count_nan_age_test = test_df[\"Age\"].isnull().sum()\n",
    "\n",
    "rand_1 = np.random.randint(average_age_titanic - std_age_titanic, average_age_titanic + std_age_titanic, size = count_nan_age_titanic)\n",
    "rand_2 = np.random.randint(average_age_test - std_age_test, average_age_test + std_age_test, size = count_nan_age_test)\n",
    "\n",
    "# fill NaN values in Age column with random values generated\n",
    "titanic_df[\"Age\"][np.isnan(titanic_df[\"Age\"])] = rand_1\n",
    "test_df[\"Age\"][np.isnan(test_df[\"Age\"])] = rand_2\n",
    "\n",
    "# convert from float to int\n",
    "titanic_df['Age'] = titanic_df['Age'].astype(int)\n",
    "test_df['Age']    = test_df['Age'].astype(int)\n",
    "\n",
    "# plot original Age values\n",
    "titanic_df['Age'].hist(bins=70, ax=axis1)\n",
    "\n",
    "# plot new Age Values\n",
    "titanic_df['Age'].hist(bins=70, ax=axis2)"
   ]
  },
  {
   "cell_type": "markdown",
   "metadata": {},
   "source": [
    "The facet plot below shows survival based on age. The shape of the graphs are similar except survived had a much higher proportion for under 10s and a longer tail at the higher ages. Their peaks are also for different ages."
   ]
  },
  {
   "cell_type": "code",
   "execution_count": 42,
   "metadata": {
    "collapsed": false
   },
   "outputs": [
    {
     "data": {
      "text/plain": [
       "<seaborn.axisgrid.FacetGrid at 0x1060b128>"
      ]
     },
     "execution_count": 42,
     "metadata": {},
     "output_type": "execute_result"
    },
    {
     "data": {
      "image/png": "[encoded data removed]",
      "text/plain": [
       "<matplotlib.figure.Figure at 0x1070b198>"
      ]
     },
     "metadata": {},
     "output_type": "display_data"
    }
   ],
   "source": [
    "# Looking at average numbers of passengers who survived based on age\n",
    "# peaks for survived/not survived passengers by their age\n",
    "facet = sns.FacetGrid(titanic_df, hue=\"Survived\",aspect=4)\n",
    "facet.map(sns.kdeplot,'Age',shade= True)\n",
    "facet.set(xlim=(0, titanic_df['Age'].max()))\n",
    "facet.add_legend()"
   ]
  },
  {
   "cell_type": "markdown",
   "metadata": {},
   "source": [
    "Plotting a bar chart showing survival rate by age shows you had a much better chance of surviving if you were under 14 or over 48. "
   ]
  },
  {
   "cell_type": "code",
   "execution_count": 43,
   "metadata": {
    "collapsed": false
   },
   "outputs": [
    {
     "data": {
      "text/plain": [
       "<matplotlib.axes._subplots.AxesSubplot at 0x10e05d30>"
      ]
     },
     "execution_count": 43,
     "metadata": {},
     "output_type": "execute_result"
    },
    {
     "data": {
      "image/png": "[encoded data removed]",
      "text/plain": [
       "<matplotlib.figure.Figure at 0x10e0b390>"
      ]
     },
     "metadata": {},
     "output_type": "display_data"
    }
   ],
   "source": [
    "fig, axis1 = plt.subplots(1,1,figsize=(18,4))\n",
    "average_age = titanic_df[[\"Age\", \"Survived\"]].groupby(['Age'],as_index=False).mean()\n",
    "sns.barplot(x='Age', y='Survived', data=average_age)\n",
    "# There was a worse chance of surviving if you were between 14 and 47. Much better chance of surviving if you are over 48 or under 14 e.g.\n",
    "# every child aged 0, 5, 12 and 13 survived. There may have been just one child aged 0 and they got on to a lifeboat first"
   ]
  },
  {
   "cell_type": "markdown",
   "metadata": {},
   "source": [
    "## Gender ##\n",
    "The graph above shows children had a better chance of survival so I created a new classification of a passenger as a child, male or female based on their age and sex. Everyone under 16 is a child and older than that are left at male or female. I plotted each category against count and against survived"
   ]
  },
  {
   "cell_type": "code",
   "execution_count": 44,
   "metadata": {
    "collapsed": false
   },
   "outputs": [
    {
     "data": {
      "text/plain": [
       "<matplotlib.axes._subplots.AxesSubplot at 0x118d45c0>"
      ]
     },
     "execution_count": 44,
     "metadata": {},
     "output_type": "execute_result"
    },
    {
     "data": {
      "image/png": "[encoded data removed]",
      "text/plain": [
       "<matplotlib.figure.Figure at 0x115599b0>"
      ]
     },
     "metadata": {},
     "output_type": "display_data"
    }
   ],
   "source": [
    "# Gender\n",
    "# As we see, children(age < ~16) on aboard seem to have a high chances for Survival.\n",
    "# So, we can classify passengers as males, females, and child\n",
    "def get_person(passenger):\n",
    "    age,sex = passenger\n",
    "    return 'child' if age < 16 else sex\n",
    "\n",
    "titanic_df['Person'] = titanic_df[['Age','Sex']].apply(get_person,axis=1)\n",
    "test_df['Person'] = test_df[['Age','Sex']].apply(get_person,axis=1)\n",
    "\n",
    "# No need to use Sex column since we created Person column\n",
    "titanic_df.drop(['Sex'],axis=1,inplace=True)\n",
    "test_df.drop(['Sex'],axis=1,inplace=True)\n",
    "\n",
    "# create dummy variables for Person column\n",
    "person_dummies_titanic  = pd.get_dummies(titanic_df['Person'])\n",
    "person_dummies_titanic.columns = ['Child','Female','Male']\n",
    "person_dummies_test  = pd.get_dummies(test_df['Person'])\n",
    "person_dummies_test.columns = ['Child','Female','Male']\n",
    "\n",
    "titanic_df = titanic_df.join(person_dummies_titanic)\n",
    "test_df    = test_df.join(person_dummies_test)\n",
    "\n",
    "fig, (axis1,axis2) = plt.subplots(1,2,figsize=(10,5))\n",
    "sns.countplot(x='Person', data=titanic_df, ax=axis1)\n",
    "\n",
    "# average of survived for each Person(male, female, or child)\n",
    "person_perc = titanic_df[[\"Person\", \"Survived\"]].groupby(['Person'],as_index=False).mean()\n",
    "sns.barplot(x='Person', y='Survived', data=person_perc, ax=axis2, order=['male','female','child'])\n"
   ]
  },
  {
   "cell_type": "markdown",
   "metadata": {},
   "source": [
    "As expected this shows women and children had the best chances of survival. I created dummy variables to represent these and dropped person and sex."
   ]
  },
  {
   "cell_type": "code",
   "execution_count": 45,
   "metadata": {
    "collapsed": false,
    "scrolled": true
   },
   "outputs": [],
   "source": [
    "# Drop person column\n",
    "titanic_df.drop(['Person'],axis=1,inplace=True)\n",
    "test_df.drop(['Person'],axis=1,inplace=True)"
   ]
  },
  {
   "cell_type": "markdown",
   "metadata": {},
   "source": [
    "## Passenger Class ##\n",
    "Plotting passenger class against survived shows that if you were in first class you had the best chance of survival – more than 2.5 times that of third class passengers. Again this is what you would expect to see."
   ]
  },
  {
   "cell_type": "code",
   "execution_count": 46,
   "metadata": {
    "collapsed": false
   },
   "outputs": [
    {
     "data": {
      "text/plain": [
       "<seaborn.axisgrid.FacetGrid at 0x10616ef0>"
      ]
     },
     "execution_count": 46,
     "metadata": {},
     "output_type": "execute_result"
    },
    {
     "data": {
      "image/png": "[encoded data removed]",
      "text/plain": [
       "<matplotlib.figure.Figure at 0x10616fd0>"
      ]
     },
     "metadata": {},
     "output_type": "display_data"
    }
   ],
   "source": [
    "# PCLASS\n",
    "# First class had a much higher level of survival\n",
    "sns.factorplot('Pclass','Survived',order=[1,2,3], data=titanic_df,size=5)"
   ]
  },
  {
   "cell_type": "markdown",
   "metadata": {},
   "source": [
    "This is the data exploration and feature engineering sections finished with. Before moving on to modelling I want to check my datasets again to ensure there are no longer any missing values, I have dropped all the columns I intended to and the same columns are in both the test and training files."
   ]
  },
  {
   "cell_type": "code",
   "execution_count": 47,
   "metadata": {
    "collapsed": false
   },
   "outputs": [
    {
     "name": "stdout",
     "output_type": "stream",
     "text": [
      "<class 'pandas.core.frame.DataFrame'>\n",
      "RangeIndex: 891 entries, 0 to 890\n",
      "Data columns (total 21 columns):\n",
      "Survived          891 non-null int64\n",
      "Pclass            891 non-null int64\n",
      "Age               891 non-null int32\n",
      "Fare              891 non-null int32\n",
      "Dr                891 non-null float64\n",
      "Master            891 non-null float64\n",
      "Military Title    891 non-null float64\n",
      "Miss              891 non-null float64\n",
      "Mr                891 non-null float64\n",
      "Mrs               891 non-null float64\n",
      "Rare Title        891 non-null float64\n",
      "Rev               891 non-null float64\n",
      "Large Family      891 non-null float64\n",
      "Singleton         891 non-null float64\n",
      "Small Family      891 non-null float64\n",
      "C                 891 non-null float64\n",
      "Q                 891 non-null float64\n",
      "S                 891 non-null float64\n",
      "Child             891 non-null float64\n",
      "Female            891 non-null float64\n",
      "Male              891 non-null float64\n",
      "dtypes: float64(17), int32(2), int64(2)\n",
      "memory usage: 139.3 KB\n",
      "<class 'pandas.core.frame.DataFrame'>\n",
      "RangeIndex: 418 entries, 0 to 417\n",
      "Data columns (total 21 columns):\n",
      "PassengerId       418 non-null int64\n",
      "Pclass            418 non-null int64\n",
      "Age               418 non-null int32\n",
      "Fare              418 non-null int32\n",
      "Dr                418 non-null float64\n",
      "Master            418 non-null float64\n",
      "Military Title    418 non-null float64\n",
      "Miss              418 non-null float64\n",
      "Mr                418 non-null float64\n",
      "Mrs               418 non-null float64\n",
      "Rare Title        418 non-null float64\n",
      "Rev               418 non-null float64\n",
      "Large Family      418 non-null float64\n",
      "Singleton         418 non-null float64\n",
      "Small Family      418 non-null float64\n",
      "C                 418 non-null float64\n",
      "Q                 418 non-null float64\n",
      "S                 418 non-null float64\n",
      "Child             418 non-null float64\n",
      "Female            418 non-null float64\n",
      "Male              418 non-null float64\n",
      "dtypes: float64(17), int32(2), int64(2)\n",
      "memory usage: 65.4 KB\n"
     ]
    }
   ],
   "source": [
    "#Print information about each\n",
    "titanic_df.info()\n",
    "test_df.info()"
   ]
  },
  {
   "cell_type": "markdown",
   "metadata": {},
   "source": [
    "## Modelling ##\n",
    "\n",
    "In order to get ready for using sklearn models I need to define the training and testing datasets. I defined the training set, x-train, to be titanic_df without the Survived column and y_train to be the Survived column.  \n",
    "\n",
    "I chose to use cross validation. This provides a better way of training the model. Cross validation splits the training set into n equal subsets and then uses n-1 of these to train the model and the unused subset to test on. This process is completed n times with each subset having been the test set exactly once. This gives a more realistic assessment of how a model performs and how it will perform on unseen data. As the training data set is a smaller than best practice proportion of the data, cross validation will help to make the best use of it. I chose a value of 10 for n. "
   ]
  },
  {
   "cell_type": "code",
   "execution_count": 48,
   "metadata": {
    "collapsed": false
   },
   "outputs": [],
   "source": [
    "# DEFINE TRAINING AND TESTING SETS\n",
    "# X train and Y train are the same except for the removed survived column\n",
    "x_train = titanic_df.drop(\"Survived\", axis=1) # dropped the survived column\n",
    "y_train = titanic_df[\"Survived\"] # the answer\n",
    "x_test  = test_df.drop(\"PassengerId\", axis=1).copy()"
   ]
  },
  {
   "cell_type": "code",
   "execution_count": 51,
   "metadata": {
    "collapsed": false
   },
   "outputs": [
    {
     "name": "stdout",
     "output_type": "stream",
     "text": [
      "Logistic Regression Score: 0.827160493827\n"
     ]
    }
   ],
   "source": [
    "# MODELLING\n",
    "\n",
    "# Logistic Regression\n",
    "# Score is for the x_train performance against y train\n",
    "logreg = LogisticRegression()\n",
    "logreg.fit(x_train, y_train)\n",
    "lr_score = logreg.score(x_train,y_train)\n",
    "print 'Logistic Regression Score:', lr_score"
   ]
  },
  {
   "cell_type": "code",
   "execution_count": 52,
   "metadata": {
    "collapsed": false
   },
   "outputs": [
    {
     "name": "stdout",
     "output_type": "stream",
     "text": [
      "Logistic Regression with cross validation accuracy:  0.821548821549\n"
     ]
    }
   ],
   "source": [
    "# Logistic Regression using Cross Validation using logreg defined above\n",
    "# accuracy is the prediction compared to Y_Train correct details.\n",
    "LRPredict = cross_validation.cross_val_predict(logreg, x_train, y_train, cv=10)\n",
    "print 'Logistic Regression with cross validation accuracy: ', metrics.accuracy_score(y_train, LRPredict) \n"
   ]
  },
  {
   "cell_type": "code",
   "execution_count": 53,
   "metadata": {
    "collapsed": false
   },
   "outputs": [
    {
     "name": "stdout",
     "output_type": "stream",
     "text": [
      "Random Forest score: 0.967452300786\n",
      "Random Forest with cross validation accuracy:  0.793490460157\n"
     ]
    }
   ],
   "source": [
    "# Random Forest\n",
    "random_forest = RandomForestClassifier(n_estimators=100)\n",
    "random_forest.fit(x_train, y_train)\n",
    "rf_score = random_forest.score(x_train, y_train)\n",
    "print 'Random Forest score:', rf_score\n",
    "\n",
    "# Random Forest with Cross Validationusing random_forest defined above\n",
    "RFPredict = cross_validation.cross_val_predict(random_forest, x_train, y_train, cv=10)\n",
    "print 'Random Forest with cross validation accuracy: ', metrics.accuracy_score(y_train, RFPredict) "
   ]
  },
  {
   "cell_type": "code",
   "execution_count": 54,
   "metadata": {
    "collapsed": false
   },
   "outputs": [
    {
     "name": "stdout",
     "output_type": "stream",
     "text": [
      "KNN score: 0.836139169473\n",
      "KNN with cross validation: 0.704826038159\n"
     ]
    }
   ],
   "source": [
    "# K Nearest Neighbours\n",
    "knn = KNeighborsClassifier(n_neighbors = 3)\n",
    "knn.fit(x_train, y_train)\n",
    "knn_score = knn.score(x_train, y_train)\n",
    "print 'KNN score:', knn_score\n",
    "\n",
    "# K Nearest Neighbours with Cross Validation using knn defined above\n",
    "KNNPredict = cross_validation.cross_val_predict(knn, x_train, y_train, cv = 10)\n",
    "print 'KNN with cross validation:', metrics.accuracy_score(y_train, KNNPredict)"
   ]
  },
  {
   "cell_type": "code",
   "execution_count": 55,
   "metadata": {
    "collapsed": false
   },
   "outputs": [
    {
     "name": "stdout",
     "output_type": "stream",
     "text": [
      "Gaussian Naive Bayes score: 0.785634118967\n",
      "Gaussian Naive Bayes with cross validation: 0.773288439955\n"
     ]
    }
   ],
   "source": [
    "# Gaussian Naive Bayes\n",
    "gaussian = GaussianNB()\n",
    "gaussian.fit(x_train, y_train)\n",
    "gnb_score = gaussian.score(x_train, y_train)\n",
    "print 'Gaussian Naive Bayes score:', gnb_score\n",
    "\n",
    "# Gaussian Naive Bayes with cross validation\n",
    "GNBPredict = cross_validation.cross_val_predict(gaussian, x_train, y_train, cv = 10)\n",
    "print 'Gaussian Naive Bayes with cross validation:', metrics.accuracy_score(y_train, GNBPredict)"
   ]
  },
  {
   "cell_type": "code",
   "execution_count": 59,
   "metadata": {
    "collapsed": false
   },
   "outputs": [
    {
     "name": "stdout",
     "output_type": "stream",
     "text": [
      " Support Vector Machine score: 0.858585858586\n",
      "SVC with cross validation accuracy:  0.821548821549\n"
     ]
    }
   ],
   "source": [
    "svc = SVC()\n",
    "svc.fit(x_train, y_train)\n",
    "svc_score = svc.score(x_train, y_train)\n",
    "print 'Support Vector Machine score:', svc_score\n",
    "\n",
    "# Support Vector Machine using Cross Validation\n",
    "cvSVC = SVC(kernel='linear', C=1)\n",
    "SVCPredict = cross_validation.cross_val_predict(cvSVC, x_train, y_train, cv=10)\n",
    "print 'SVC with cross validation accuracy: ', metrics.accuracy_score(y_train, SVCPredict) "
   ]
  },
  {
   "cell_type": "markdown",
   "metadata": {
    "collapsed": true
   },
   "source": [
    "## Results ##\n",
    "\n",
    "I based my program on the kaggle solutions posted by Omar El Gabry and Megan Risdal. I implemented some of Megan’s ideas in the hopes of improving Omar’s program.\n",
    "\n",
    "My program slightly improves on Omar’s results when cross validation is not used. When I used cross validation all of the scores decreased. As the point of the exercise is to predict who survived in a dataset where the value of survived is unknown I think the cross validated results will give the best indicator of which model is going to give a better prediction on unseen data. Those which have been trained on the whole training data set have learned how to predict values for that dataset very well but the point of creating a model with machine learning is to create a model which generalises well. For this reason, I am going to choose the support vector machine as my best model. Out of all the cross validated models it is the one which has the highest prediction value. The random forest had a score of 96% when no cross validation was used but this fell to 80% indicating to me that this has overfit the data."
   ]
  },
  {
   "cell_type": "markdown",
   "metadata": {},
   "source": [
    "## Improvements ##\n",
    "\n",
    "I think one of the main improvements I could make to my model is to look at the way I imputed missing age values and use a machine learning algorithm to do a more sensible imputation. Python offers a fancyimpute package with a number of algorithms.  \n",
    "\n",
    "One of the biggest problems when the Titanic disaster happened was issues around getting on to a lifeboat. There simply weren’t enough boats and some of them weren’t usable or not accessible. Delayed boarding was also an issue. A useful variable would be closeness to lifeboat at time of incident. Another could be where did the person die – did they get to the water and drown or were they trapped on the boat. Obviously impractical but would give a more accurate model.  \n",
    "\n",
    "It would be interesting to take the surname /nationality to see who had a greater chance of survival.  \n",
    "\n",
    "It would also be interesting to have a crew variable to show who was and was not a member of the crew. The majority of the crew did not survive so I think this would probably be a good indicator. \n"
   ]
  },
  {
   "cell_type": "markdown",
   "metadata": {},
   "source": [
    "## References ##\n",
    "https://www.kaggle.com/omarelgabry/titanic/a-journey-through-titanic/notebook  \n",
    "https://www.kaggle.com/mrisdal/titanic/exploring-survival-on-the-titanic/comments   \n",
    "https://www.kaggle.com/yildirimarda/titanic/titanic-test3/code  \n"
   ]
  },
  {
   "cell_type": "code",
   "execution_count": null,
   "metadata": {
    "collapsed": true
   },
   "outputs": [],
   "source": []
  }
 ],
 "metadata": {
  "anaconda-cloud": {},
  "kernelspec": {
   "display_name": "Python [Siobhan]",
   "language": "python",
   "name": "Python [Siobhan]"
  },
  "language_info": {
   "codemirror_mode": {
    "name": "ipython",
    "version": 2
   },
   "file_extension": ".py",
   "mimetype": "text/x-python",
   "name": "python",
   "nbconvert_exporter": "python",
   "pygments_lexer": "ipython2",
   "version": "2.7.11"
  }
 },
 "nbformat": 4,
 "nbformat_minor": 0
}
